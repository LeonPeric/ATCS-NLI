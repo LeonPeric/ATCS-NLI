{
 "cells": [
  {
   "cell_type": "code",
   "execution_count": 1,
   "metadata": {},
   "outputs": [
    {
     "name": "stderr",
     "output_type": "stream",
     "text": [
      "c:\\Users\\leonp\\anaconda3\\envs\\ATCS_6\\lib\\site-packages\\tqdm\\auto.py:21: TqdmWarning: IProgress not found. Please update jupyter and ipywidgets. See https://ipywidgets.readthedocs.io/en/stable/user_install.html\n",
      "  from .autonotebook import tqdm as notebook_tqdm\n"
     ]
    }
   ],
   "source": [
    "import torch\n",
    "import os\n",
    "import numpy as np\n",
    "import pickle\n",
    "import utils\n",
    "import model\n",
    "device = torch.device(\"cuda\" if torch.cuda.is_available() else \"cpu\")"
   ]
  },
  {
   "cell_type": "code",
   "execution_count": 2,
   "metadata": {},
   "outputs": [
    {
     "name": "stdout",
     "output_type": "stream",
     "text": [
      "First load/build the vocab and embeddings\n",
      "Found required files\n"
     ]
    }
   ],
   "source": [
    "print(\"First load/build the vocab and embeddings\")\n",
    "dataset_path = \"../data/\"\n",
    "\n",
    "if os.path.isfile(dataset_path + \"embeddings.txt\"):\n",
    "    print(\"Found required files\")\n",
    "    vectors = np.loadtxt(dataset_path + \"embeddings.txt\")\n",
    "    vectors = torch.Tensor(vectors)\n",
    "\n",
    "    with open(dataset_path + \"vocab.pickle\", \"rb\") as f:\n",
    "        vocab = pickle.load(f)\n",
    "else:\n",
    "    vocab, vectors = utils.create_vocab(dataset_path)\n",
    "    vectors = torch.Tensor(vectors)"
   ]
  },
  {
   "cell_type": "code",
   "execution_count": 20,
   "metadata": {},
   "outputs": [],
   "source": [
    "# decide which model you want to use\n",
    "# base = model.Baseline(vectors).to(device)\n",
    "# net = model.NeuralNet(base, 300).to(device)\n",
    "\n",
    "# lstm = model.LSTM(vectors, 2048).to(device)\n",
    "# net = model.NeuralNet(lstm, 2048).to(device)\n",
    "\n",
    "# bi_lstm = model.BiLSTM(vectors, 4096, False).to(device)\n",
    "# net = model.NeuralNet(bi_lstm, 4096).to(device)\n",
    "\n",
    "bi_lstm = model.BiLSTM(vectors, 4096, True).to(device)\n",
    "net = model.NeuralNet(bi_lstm, 4096).to(device)"
   ]
  },
  {
   "cell_type": "code",
   "execution_count": 21,
   "metadata": {},
   "outputs": [],
   "source": [
    "def pred(vocab, net, device, premise, hypothesis):\n",
    "    premise, hypothesis, _ = utils.process_sentence(premise, hypothesis, [1], vocab, device)\n",
    "    premise = premise\n",
    "    hypothesis = hypothesis\n",
    "\n",
    "    preds = net(premise, hypothesis)\n",
    "\n",
    "    preds = torch.argmax(preds, dim=-1)\n",
    "\n",
    "    for item in preds:\n",
    "        if int(item.item()) == 0:\n",
    "            return \"Entailment\"\n",
    "        if int(item.item()) == 1:\n",
    "            return \"Neutral\"\n",
    "\n",
    "        return \"Contradiction\""
   ]
  },
  {
   "cell_type": "code",
   "execution_count": 22,
   "metadata": {},
   "outputs": [
    {
     "data": {
      "text/plain": [
       "'Contradiction'"
      ]
     },
     "execution_count": 22,
     "metadata": {},
     "output_type": "execute_result"
    }
   ],
   "source": [
    "premise = [\"Two men sitting in the sun\"]\n",
    "hypothesis = [\"Nobody is sitting in the shade\"]\n",
    "pred(vocab, net, device, premise * 2, hypothesis * 2)"
   ]
  },
  {
   "cell_type": "code",
   "execution_count": 23,
   "metadata": {},
   "outputs": [
    {
     "data": {
      "text/plain": [
       "'Contradiction'"
      ]
     },
     "execution_count": 23,
     "metadata": {},
     "output_type": "execute_result"
    }
   ],
   "source": [
    "premise = [\"A man is walking a dog\"]\n",
    "hypothesis = [\"No cat is outside\"]\n",
    "pred(vocab, net, device, premise * 2, hypothesis * 2)"
   ]
  }
 ],
 "metadata": {
  "kernelspec": {
   "display_name": "ATCS_6",
   "language": "python",
   "name": "python3"
  },
  "language_info": {
   "codemirror_mode": {
    "name": "ipython",
    "version": 3
   },
   "file_extension": ".py",
   "mimetype": "text/x-python",
   "name": "python",
   "nbconvert_exporter": "python",
   "pygments_lexer": "ipython3",
   "version": "3.10.14"
  }
 },
 "nbformat": 4,
 "nbformat_minor": 2
}
